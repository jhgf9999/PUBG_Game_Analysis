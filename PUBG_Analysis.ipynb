{
  "nbformat": 4,
  "nbformat_minor": 0,
  "metadata": {
    "colab": {
      "name": "PUBG_Analysis.ipynb",
      "provenance": [],
      "toc_visible": true,
      "include_colab_link": true
    },
    "kernelspec": {
      "name": "python3",
      "display_name": "Python 3"
    },
    "language_info": {
      "name": "python"
    }
  },
  "cells": [
    {
      "cell_type": "markdown",
      "metadata": {
        "id": "view-in-github",
        "colab_type": "text"
      },
      "source": [
        "<a href=\"https://colab.research.google.com/github/jhgf9999/PUBG_Game_Analysis/blob/main/PUBG_Analysis.ipynb\" target=\"_parent\"><img src=\"https://colab.research.google.com/assets/colab-badge.svg\" alt=\"Open In Colab\"/></a>"
      ]
    },
    {
      "cell_type": "markdown",
      "metadata": {
        "id": "MN1OcwF9OcfL"
      },
      "source": [
        "# Databricks read_csv"
      ]
    },
    {
      "cell_type": "code",
      "metadata": {
        "id": "oaXRtZu-JyUN"
      },
      "source": [
        "#Databricks read_csv code\n",
        "agg = 'file:///databricks/driver/agg_match_stats_4.csv.1'\n",
        "kill = 'file:///databricks/driver/kill_match_stats_final_4.csv'\n",
        "agg_df = pd.read_csv(agg)  # shape (13849287, 15)\n",
        "kill_df = pd.read_csv(kill) # shape(13426348, 12)"
      ],
      "execution_count": null,
      "outputs": []
    },
    {
      "cell_type": "markdown",
      "metadata": {
        "id": "8UQTy-1QOiCe"
      },
      "source": [
        "# Google Colab read_csv"
      ]
    },
    {
      "cell_type": "code",
      "metadata": {
        "colab": {
          "base_uri": "https://localhost:8080/",
          "height": 180
        },
        "id": "F-DpflwsJgxB",
        "outputId": "e7d0abdf-4399-45d7-c601-08420e4d3042"
      },
      "source": [
        "#For Google Colab read_csv code\n",
        "import numpy as np\n",
        "import matplotlib.pyplot as plt\n",
        "import pandas as pd\n",
        "import seaborn as sns\n",
        "agg_df = pd.read_csv(\"agg_match_stats_4.csv\")\n",
        "kill_df = pd.read_csv(\"kill_match_stats_final_4.csv\")\n",
        "display(agg_df.head(1))\n",
        "display(kill_df.head(1))"
      ],
      "execution_count": null,
      "outputs": [
        {
          "output_type": "display_data",
          "data": {
            "text/html": [
              "<div>\n",
              "<style scoped>\n",
              "    .dataframe tbody tr th:only-of-type {\n",
              "        vertical-align: middle;\n",
              "    }\n",
              "\n",
              "    .dataframe tbody tr th {\n",
              "        vertical-align: top;\n",
              "    }\n",
              "\n",
              "    .dataframe thead th {\n",
              "        text-align: right;\n",
              "    }\n",
              "</style>\n",
              "<table border=\"1\" class=\"dataframe\">\n",
              "  <thead>\n",
              "    <tr style=\"text-align: right;\">\n",
              "      <th></th>\n",
              "      <th>date</th>\n",
              "      <th>game_size</th>\n",
              "      <th>match_id</th>\n",
              "      <th>match_mode</th>\n",
              "      <th>party_size</th>\n",
              "      <th>player_assists</th>\n",
              "      <th>player_dbno</th>\n",
              "      <th>player_dist_ride</th>\n",
              "      <th>player_dist_walk</th>\n",
              "      <th>player_dmg</th>\n",
              "      <th>player_kills</th>\n",
              "      <th>player_name</th>\n",
              "      <th>player_survive_time</th>\n",
              "      <th>team_id</th>\n",
              "      <th>team_placement</th>\n",
              "    </tr>\n",
              "  </thead>\n",
              "  <tbody>\n",
              "    <tr>\n",
              "      <th>0</th>\n",
              "      <td>2017-10-31T02:41:53+0000</td>\n",
              "      <td>95</td>\n",
              "      <td>2U4GBNA0YmmhivBOFUiipklIPVdC0DRgkX88eyhTYGiAno...</td>\n",
              "      <td>tpp</td>\n",
              "      <td>1.0</td>\n",
              "      <td>0.0</td>\n",
              "      <td>0.0</td>\n",
              "      <td>0.0</td>\n",
              "      <td>37.919838</td>\n",
              "      <td>20.0</td>\n",
              "      <td>0.0</td>\n",
              "      <td>m3xdave</td>\n",
              "      <td>106.351</td>\n",
              "      <td>100000.0</td>\n",
              "      <td>88.0</td>\n",
              "    </tr>\n",
              "  </tbody>\n",
              "</table>\n",
              "</div>"
            ],
            "text/plain": [
              "                       date  game_size  ...   team_id team_placement\n",
              "0  2017-10-31T02:41:53+0000         95  ...  100000.0           88.0\n",
              "\n",
              "[1 rows x 15 columns]"
            ]
          },
          "metadata": {
            "tags": []
          }
        },
        {
          "output_type": "display_data",
          "data": {
            "text/html": [
              "<div>\n",
              "<style scoped>\n",
              "    .dataframe tbody tr th:only-of-type {\n",
              "        vertical-align: middle;\n",
              "    }\n",
              "\n",
              "    .dataframe tbody tr th {\n",
              "        vertical-align: top;\n",
              "    }\n",
              "\n",
              "    .dataframe thead th {\n",
              "        text-align: right;\n",
              "    }\n",
              "</style>\n",
              "<table border=\"1\" class=\"dataframe\">\n",
              "  <thead>\n",
              "    <tr style=\"text-align: right;\">\n",
              "      <th></th>\n",
              "      <th>killed_by</th>\n",
              "      <th>killer_name</th>\n",
              "      <th>killer_placement</th>\n",
              "      <th>killer_position_x</th>\n",
              "      <th>killer_position_y</th>\n",
              "      <th>map</th>\n",
              "      <th>match_id</th>\n",
              "      <th>time</th>\n",
              "      <th>victim_name</th>\n",
              "      <th>victim_placement</th>\n",
              "      <th>victim_position_x</th>\n",
              "      <th>victim_position_y</th>\n",
              "    </tr>\n",
              "  </thead>\n",
              "  <tbody>\n",
              "    <tr>\n",
              "      <th>0</th>\n",
              "      <td>M249</td>\n",
              "      <td>0932313woaini</td>\n",
              "      <td>7.0</td>\n",
              "      <td>529007.7</td>\n",
              "      <td>440035.5</td>\n",
              "      <td>MIRAMAR</td>\n",
              "      <td>2U4GBNA0YmkBbLEF24GGKLLAPoDQjAD8DoJFecsw9jUiNE...</td>\n",
              "      <td>1209</td>\n",
              "      <td>GODusopp</td>\n",
              "      <td>11.0</td>\n",
              "      <td>526111.8</td>\n",
              "      <td>432951.8</td>\n",
              "    </tr>\n",
              "  </tbody>\n",
              "</table>\n",
              "</div>"
            ],
            "text/plain": [
              "  killed_by    killer_name  ...  victim_position_x  victim_position_y\n",
              "0      M249  0932313woaini  ...           526111.8           432951.8\n",
              "\n",
              "[1 rows x 12 columns]"
            ]
          },
          "metadata": {
            "tags": []
          }
        }
      ]
    },
    {
      "cell_type": "markdown",
      "metadata": {
        "id": "_YLwyDueO-qg"
      },
      "source": [
        "# Data Overview and data cleansing"
      ]
    },
    {
      "cell_type": "code",
      "metadata": {
        "colab": {
          "base_uri": "https://localhost:8080/",
          "height": 317
        },
        "id": "K9ooT4pzOorF",
        "outputId": "d9e62b88-5122-4ad9-f064-588c3aff736e"
      },
      "source": [
        "agg_df.describe() #Basic overview"
      ],
      "execution_count": null,
      "outputs": [
        {
          "output_type": "execute_result",
          "data": {
            "text/html": [
              "<div>\n",
              "<style scoped>\n",
              "    .dataframe tbody tr th:only-of-type {\n",
              "        vertical-align: middle;\n",
              "    }\n",
              "\n",
              "    .dataframe tbody tr th {\n",
              "        vertical-align: top;\n",
              "    }\n",
              "\n",
              "    .dataframe thead th {\n",
              "        text-align: right;\n",
              "    }\n",
              "</style>\n",
              "<table border=\"1\" class=\"dataframe\">\n",
              "  <thead>\n",
              "    <tr style=\"text-align: right;\">\n",
              "      <th></th>\n",
              "      <th>game_size</th>\n",
              "      <th>party_size</th>\n",
              "      <th>player_assists</th>\n",
              "      <th>player_dbno</th>\n",
              "      <th>player_dist_ride</th>\n",
              "      <th>player_dist_walk</th>\n",
              "      <th>player_dmg</th>\n",
              "      <th>player_kills</th>\n",
              "      <th>player_survive_time</th>\n",
              "      <th>team_id</th>\n",
              "      <th>team_placement</th>\n",
              "    </tr>\n",
              "  </thead>\n",
              "  <tbody>\n",
              "    <tr>\n",
              "      <th>count</th>\n",
              "      <td>214575.000000</td>\n",
              "      <td>214574.000000</td>\n",
              "      <td>214574.000000</td>\n",
              "      <td>214574.000000</td>\n",
              "      <td>214574.000000</td>\n",
              "      <td>214574.000000</td>\n",
              "      <td>214574.000000</td>\n",
              "      <td>214574.000000</td>\n",
              "      <td>214574.000000</td>\n",
              "      <td>214574.000000</td>\n",
              "      <td>214574.000000</td>\n",
              "    </tr>\n",
              "    <tr>\n",
              "      <th>mean</th>\n",
              "      <td>48.344984</td>\n",
              "      <td>2.681536</td>\n",
              "      <td>0.226640</td>\n",
              "      <td>0.568051</td>\n",
              "      <td>1142.935757</td>\n",
              "      <td>1277.935158</td>\n",
              "      <td>123.633343</td>\n",
              "      <td>0.887153</td>\n",
              "      <td>784.953605</td>\n",
              "      <td>22642.783021</td>\n",
              "      <td>25.078048</td>\n",
              "    </tr>\n",
              "    <tr>\n",
              "      <th>std</th>\n",
              "      <td>25.826387</td>\n",
              "      <td>1.255825</td>\n",
              "      <td>0.572539</td>\n",
              "      <td>1.091661</td>\n",
              "      <td>1972.068281</td>\n",
              "      <td>3911.605882</td>\n",
              "      <td>167.266679</td>\n",
              "      <td>1.538789</td>\n",
              "      <td>576.483297</td>\n",
              "      <td>41847.710313</td>\n",
              "      <td>20.863682</td>\n",
              "    </tr>\n",
              "    <tr>\n",
              "      <th>min</th>\n",
              "      <td>13.000000</td>\n",
              "      <td>1.000000</td>\n",
              "      <td>0.000000</td>\n",
              "      <td>0.000000</td>\n",
              "      <td>0.000000</td>\n",
              "      <td>0.000000</td>\n",
              "      <td>0.000000</td>\n",
              "      <td>0.000000</td>\n",
              "      <td>55.374000</td>\n",
              "      <td>1.000000</td>\n",
              "      <td>1.000000</td>\n",
              "    </tr>\n",
              "    <tr>\n",
              "      <th>25%</th>\n",
              "      <td>27.000000</td>\n",
              "      <td>2.000000</td>\n",
              "      <td>0.000000</td>\n",
              "      <td>0.000000</td>\n",
              "      <td>0.000000</td>\n",
              "      <td>207.500096</td>\n",
              "      <td>0.000000</td>\n",
              "      <td>0.000000</td>\n",
              "      <td>245.764500</td>\n",
              "      <td>11.000000</td>\n",
              "      <td>10.000000</td>\n",
              "    </tr>\n",
              "    <tr>\n",
              "      <th>50%</th>\n",
              "      <td>45.000000</td>\n",
              "      <td>2.000000</td>\n",
              "      <td>0.000000</td>\n",
              "      <td>0.000000</td>\n",
              "      <td>0.000000</td>\n",
              "      <td>842.281279</td>\n",
              "      <td>77.000000</td>\n",
              "      <td>0.000000</td>\n",
              "      <td>648.169000</td>\n",
              "      <td>22.000000</td>\n",
              "      <td>20.000000</td>\n",
              "    </tr>\n",
              "    <tr>\n",
              "      <th>75%</th>\n",
              "      <td>50.000000</td>\n",
              "      <td>4.000000</td>\n",
              "      <td>0.000000</td>\n",
              "      <td>1.000000</td>\n",
              "      <td>1863.061647</td>\n",
              "      <td>2060.772717</td>\n",
              "      <td>175.000000</td>\n",
              "      <td>1.000000</td>\n",
              "      <td>1297.172250</td>\n",
              "      <td>47.000000</td>\n",
              "      <td>34.000000</td>\n",
              "    </tr>\n",
              "    <tr>\n",
              "      <th>max</th>\n",
              "      <td>100.000000</td>\n",
              "      <td>4.000000</td>\n",
              "      <td>8.000000</td>\n",
              "      <td>39.000000</td>\n",
              "      <td>197272.453000</td>\n",
              "      <td>959825.200000</td>\n",
              "      <td>4784.000000</td>\n",
              "      <td>46.000000</td>\n",
              "      <td>2230.418000</td>\n",
              "      <td>100112.000000</td>\n",
              "      <td>100.000000</td>\n",
              "    </tr>\n",
              "  </tbody>\n",
              "</table>\n",
              "</div>"
            ],
            "text/plain": [
              "           game_size     party_size  ...        team_id  team_placement\n",
              "count  214575.000000  214574.000000  ...  214574.000000   214574.000000\n",
              "mean       48.344984       2.681536  ...   22642.783021       25.078048\n",
              "std        25.826387       1.255825  ...   41847.710313       20.863682\n",
              "min        13.000000       1.000000  ...       1.000000        1.000000\n",
              "25%        27.000000       2.000000  ...      11.000000       10.000000\n",
              "50%        45.000000       2.000000  ...      22.000000       20.000000\n",
              "75%        50.000000       4.000000  ...      47.000000       34.000000\n",
              "max       100.000000       4.000000  ...  100112.000000      100.000000\n",
              "\n",
              "[8 rows x 11 columns]"
            ]
          },
          "metadata": {
            "tags": []
          },
          "execution_count": 3
        }
      ]
    },
    {
      "cell_type": "code",
      "metadata": {
        "colab": {
          "base_uri": "https://localhost:8080/"
        },
        "id": "PYWXF3c1PoZW",
        "outputId": "0ad7aa7d-840d-4159-8e97-964ae58258e6"
      },
      "source": [
        "agg_df.isnull().sum() #To check null values in each column"
      ],
      "execution_count": null,
      "outputs": [
        {
          "output_type": "execute_result",
          "data": {
            "text/plain": [
              "date                     0\n",
              "game_size                0\n",
              "match_id                 0\n",
              "match_mode               1\n",
              "party_size               1\n",
              "player_assists           1\n",
              "player_dbno              1\n",
              "player_dist_ride         1\n",
              "player_dist_walk         1\n",
              "player_dmg               1\n",
              "player_kills             1\n",
              "player_name            320\n",
              "player_survive_time      1\n",
              "team_id                  1\n",
              "team_placement           1\n",
              "dtype: int64"
            ]
          },
          "metadata": {
            "tags": []
          },
          "execution_count": 4
        }
      ]
    },
    {
      "cell_type": "code",
      "metadata": {
        "colab": {
          "base_uri": "https://localhost:8080/"
        },
        "id": "kkiM8VNVURNK",
        "outputId": "3a6087c8-8019-42da-b3d3-0251eb7cdaa9"
      },
      "source": [
        "kill_df.isnull().sum() #To check null values in each column"
      ],
      "execution_count": null,
      "outputs": [
        {
          "output_type": "execute_result",
          "data": {
            "text/plain": [
              "killed_by               0\n",
              "killer_name          5362\n",
              "killer_placement     5362\n",
              "killer_position_x    5362\n",
              "killer_position_y    5362\n",
              "map                   932\n",
              "match_id                0\n",
              "time                    0\n",
              "victim_name             1\n",
              "victim_placement     1243\n",
              "victim_position_x       1\n",
              "victim_position_y       1\n",
              "dtype: int64"
            ]
          },
          "metadata": {
            "tags": []
          },
          "execution_count": 5
        }
      ]
    },
    {
      "cell_type": "code",
      "metadata": {
        "colab": {
          "base_uri": "https://localhost:8080/",
          "height": 510
        },
        "id": "BWVQTrhQVbMB",
        "outputId": "7e72d536-1588-462c-c74a-8f80cd160298"
      },
      "source": [
        "agg_df2= agg_df.dropna(axis = 0, how = 'any') #drop any rows with NA's\n",
        "kill_df2 = kill_df.dropna(axis = 0, how = 'any') #drop any rows with NA's\n",
        "display(agg_df2.isnull().sum())\n",
        "display(kill_df2.isnull().sum())"
      ],
      "execution_count": null,
      "outputs": [
        {
          "output_type": "display_data",
          "data": {
            "text/plain": [
              "date                   0\n",
              "game_size              0\n",
              "match_id               0\n",
              "match_mode             0\n",
              "party_size             0\n",
              "player_assists         0\n",
              "player_dbno            0\n",
              "player_dist_ride       0\n",
              "player_dist_walk       0\n",
              "player_dmg             0\n",
              "player_kills           0\n",
              "player_name            0\n",
              "player_survive_time    0\n",
              "team_id                0\n",
              "team_placement         0\n",
              "dtype: int64"
            ]
          },
          "metadata": {
            "tags": []
          }
        },
        {
          "output_type": "display_data",
          "data": {
            "text/plain": [
              "killed_by            0\n",
              "killer_name          0\n",
              "killer_placement     0\n",
              "killer_position_x    0\n",
              "killer_position_y    0\n",
              "map                  0\n",
              "match_id             0\n",
              "time                 0\n",
              "victim_name          0\n",
              "victim_placement     0\n",
              "victim_position_x    0\n",
              "victim_position_y    0\n",
              "dtype: int64"
            ]
          },
          "metadata": {
            "tags": []
          }
        }
      ]
    },
    {
      "cell_type": "markdown",
      "metadata": {
        "id": "nUfYVsEUJpNH"
      },
      "source": [
        "# Descriptive Analysis"
      ]
    },
    {
      "cell_type": "code",
      "metadata": {
        "colab": {
          "base_uri": "https://localhost:8080/",
          "height": 1000
        },
        "id": "uYVLs0kLVb31",
        "outputId": "0039731a-4b38-42d1-b9d9-d3e14b50ccd4"
      },
      "source": [
        "kill_all = kill_df2['killed_by'].value_counts()\n",
        "print(kill_all) #Get rid of the first one, and show top 10 weapons\n",
        "\n",
        "fig = plt.figure(figsize = (20,10))\n",
        "ax = sns.barplot(x = kill_all.values, y = kill_all.index)\n",
        "ax.set_xlabel('counts')\n",
        "ax.set_ylabel('Death Method')\n",
        "ax.set_title('Killed by')\n",
        "plt.show()"
      ],
      "execution_count": null,
      "outputs": [
        {
          "output_type": "stream",
          "text": [
            "Down and Out                       16179\n",
            "M416                               12898\n",
            "SCAR-L                             10406\n",
            "M16A4                               9988\n",
            "AKM                                 9517\n",
            "UMP9                                6152\n",
            "S1897                               4618\n",
            "Mini 14                             3261\n",
            "Kar98k                              2838\n",
            "Punch                               2802\n",
            "S686                                2779\n",
            "SKS                                 2664\n",
            "S12K                                2413\n",
            "Micro UZI                           2190\n",
            "Grenade                             1913\n",
            "Tommy Gun                           1478\n",
            "P92                                 1265\n",
            "P1911                               1237\n",
            "Hit by Car                          1024\n",
            "Vector                               672\n",
            "Bluezone                             567\n",
            "Falling                              490\n",
            "DP-28                                342\n",
            "Uaz                                  333\n",
            "Groza                                331\n",
            "R1895                                306\n",
            "M24                                  295\n",
            "AWM                                  275\n",
            "VSS                                  269\n",
            "M249                                 252\n",
            "Win94                                230\n",
            "Crossbow                             170\n",
            "Mk14                                 160\n",
            "Pan                                  148\n",
            "P18C                                 136\n",
            "Dacia                                126\n",
            "death.WeapSawnoff_C                  117\n",
            "Motorbike (SideCar)                  102\n",
            "Pickup Truck                          93\n",
            "Motorbike                             86\n",
            "R45                                   76\n",
            "AUG                                   72\n",
            "death.ProjMolotov_DamageField_C       64\n",
            "Buggy                                 61\n",
            "Machete                               54\n",
            "Crowbar                               52\n",
            "Drown                                 48\n",
            "Sickle                                38\n",
            "death.Buff_FireDOT_C                  22\n",
            "Boat                                  18\n",
            "RedZone                                5\n",
            "Van                                    4\n",
            "Aquarail                               2\n",
            "death.ProjMolotov_C                    2\n",
            "Name: killed_by, dtype: int64\n"
          ],
          "name": "stdout"
        },
        {
          "output_type": "display_data",
          "data": {
            "image/png": "[encoded data removed]",
            "text/plain": [
              "<Figure size 1440x720 with 1 Axes>"
            ]
          },
          "metadata": {
            "tags": [],
            "needs_background": "light"
          }
        }
      ]
    },
    {
      "cell_type": "code",
      "metadata": {
        "colab": {
          "base_uri": "https://localhost:8080/",
          "height": 519
        },
        "id": "5sYWrFqjVbuW",
        "outputId": "98cf2c15-4f00-455e-f749-96b655209c47"
      },
      "source": [
        "#Top 10 winner's weapons\n",
        "weapon_list = kill_all.drop(['Down and Out', 'Punch', 'Hit by Car', \n",
        "                             'Falling', 'Bluezone', 'RedZone', \n",
        "                             'Motorbike (SideCar)', 'Dacia', 'Pickup Truck', \n",
        "                             'Buggy', 'Boat', 'Aquarail'])\n",
        "weapon_kill = kill_df2[kill_df2['killed_by'].isin(list(weapon_list.index))]\n",
        "winner_weapons = weapon_kill[weapon_kill['killer_placement'] == 1.0]['killed_by'].value_counts()\n",
        "\n",
        "fig = plt.figure(figsize = (20, 10))\n",
        "ax = sns.barplot(x = winner_weapons[:10].values, y = winner_weapons[:10].index)\n",
        "ax.set_ylabel('Winner\\'s weapons')\n",
        "ax.set_xlabel('Number of Kills')\n",
        "plt.show()"
      ],
      "execution_count": null,
      "outputs": [
        {
          "output_type": "display_data",
          "data": {
            "image/png": "[encoded data removed]",
            "text/plain": [
              "<Figure size 1440x720 with 1 Axes>"
            ]
          },
          "metadata": {
            "tags": [],
            "needs_background": "light"
          }
        }
      ]
    },
    {
      "cell_type": "code",
      "metadata": {
        "id": "-xAqyT701JW3",
        "colab": {
          "base_uri": "https://localhost:8080/",
          "height": 626
        },
        "outputId": "e924ba00-4f8d-4679-88fe-e18fab3d3843"
      },
      "source": [
        "#fun fact\n",
        "suicide_weapons = kill_df2[kill_df2['killer_name'] == kill_df2['victim_name']]['killed_by'].value_counts()\n",
        "\n",
        "fig = plt.figure(figsize = (20, 10))\n",
        "ax = sns.barplot(x = suicide_weapons[:10].values, y = suicide_weapons[:10].index)\n",
        "ax.set_ylabel('suicide weapons')\n",
        "ax.set_xlabel('Number of Kills')\n",
        "plt.show()\n",
        "\n",
        "#Stay away from the grenade you just threw!!!"
      ],
      "execution_count": null,
      "outputs": [
        {
          "output_type": "display_data",
          "data": {
            "image/png": "[encoded data removed]",
            "text/plain": [
              "<Figure size 1440x720 with 1 Axes>"
            ]
          },
          "metadata": {
            "tags": [],
            "needs_background": "light"
          }
        }
      ]
    },
    {
      "cell_type": "code",
      "metadata": {
        "colab": {
          "base_uri": "https://localhost:8080/",
          "height": 651
        },
        "id": "qs9EmavuFbzl",
        "outputId": "697d0d54-659f-4485-dbe0-e60cb28d0ec3"
      },
      "source": [
        "#Meta武器平均擊殺距離\n",
        "kill_df2.head()\n",
        "\n",
        "dist = np.sqrt(((kill_df2['killer_position_x'] - kill_df2['victim_position_x'])/100) ** 2 + ((kill_df2['killer_position_y'] - kill_df2['victim_position_y'])/100) ** 2)\n",
        "dist = dist.apply(lambda x: int(x))\n",
        "kill_df2.loc[:, 'distance'] = dist.values\n",
        "\n",
        "weapon_mean_kill_dist = kill_df2.groupby('killed_by')['distance'].mean()\n",
        "meta_weapon = ['M16A4', 'M416', 'Kar98k', 'AKM', 'SCAR-L', 'M249', 'AWM']\n",
        "meta_weapon_mean_dist = weapon_mean_kill_dist[meta_weapon].sort_values(ascending = False)\n",
        "\n",
        "fig = plt.figure(figsize = (20, 10))\n",
        "ax = sns.barplot(y = meta_weapon_mean_dist.values, x = meta_weapon_mean_dist.index)\n",
        "ax.set_ylabel('Average kill distance')\n",
        "ax.set_xlabel('Meta weapons')\n",
        "plt.show()"
      ],
      "execution_count": null,
      "outputs": [
        {
          "output_type": "stream",
          "text": [
            "/usr/local/lib/python3.7/dist-packages/pandas/core/indexing.py:1743: SettingWithCopyWarning: \n",
            "A value is trying to be set on a copy of a slice from a DataFrame.\n",
            "Try using .loc[row_indexer,col_indexer] = value instead\n",
            "\n",
            "See the caveats in the documentation: https://pandas.pydata.org/pandas-docs/stable/user_guide/indexing.html#returning-a-view-versus-a-copy\n",
            "  isetter(ilocs[0], value)\n"
          ],
          "name": "stderr"
        },
        {
          "output_type": "display_data",
          "data": {
            "image/png": "[encoded data removed]",
            "text/plain": [
              "<Figure size 1440x720 with 1 Axes>"
            ]
          },
          "metadata": {
            "tags": [],
            "needs_background": "light"
          }
        }
      ]
    },
    {
      "cell_type": "code",
      "metadata": {
        "id": "HDUUN_cyKtNi"
      },
      "source": [
        "import numpy as np\n",
        "import matplotlib.pyplot as plt\n",
        "import pandas as pd\n",
        "#killing distribution\n",
        "agg_sub_df = agg_df[:1000000]\n",
        "kill_sub_df = kill_df[:1000000]\n",
        "agg_sub_deleted = agg_sub_df.dropna(axis=0)\n",
        "kill_sub_deleted = kill_sub_df.dropna(axis=0)\n",
        "agg_sub_deleted['player_kills'].describe()\n",
        "#relationship between killing and team placement\n",
        "import seaborn as sns\n",
        "data = agg_sub_deleted[['player_kills', 'team_placement']]\n",
        "sns.set(style=\"darkgrid\")\n",
        "g = sns.relplot(x=\"player_kills\", y=\"team_placement\",height=4,linewidth=2,aspect=1.3, kind=\"line\", data=data)\n",
        "g.fig.autofmt_xdate() # Rotate coordinates"
      ],
      "execution_count": null,
      "outputs": []
    },
    {
      "cell_type": "markdown",
      "metadata": {
        "id": "CwD2NRN_IeA2"
      },
      "source": [
        "# Create SQL Schema "
      ]
    },
    {
      "cell_type": "code",
      "metadata": {
        "id": "WKzhaZXdIrlp"
      },
      "source": [
        "%python\n",
        "from pyspark.sql.types import *\n",
        "agg_Schema = StructType([StructField(\"date\", DateType(), True),\n",
        "                         StructField(\"game_size\", IntegerType(), True),\n",
        "                         StructField(\"match_id\", StringType(), True),\n",
        "                         StructField(\"match_mode\", StringType(), True),\n",
        "                         StructField(\"party_size\", IntegerType(), True),\n",
        "                         StructField(\"player_assists\", IntegerType(), True),\n",
        "                         StructField(\"player_dbno\", IntegerType(), True),\n",
        "                         StructField(\"player_dist_ride\", DoubleType(), True),\n",
        "                         StructField(\"player_dist_walk\", DoubleType(), True),\n",
        "                         StructField(\"player_dmg\", IntegerType(), True),\n",
        "                         StructField(\"player_kills\", IntegerType(), True),\n",
        "                         StructField(\"player_name\", StringType(), True),\n",
        "                         StructField(\"player_survive_time\", DoubleType(), True),\n",
        "                         StructField(\"team_id\", IntegerType(), True),\n",
        "                         StructField(\"team_placement\", IntegerType(), True)])\n",
        "\n",
        "agg_DF_withSchema = spark.read.format('csv').schema(agg_Schema).option(\"header\", \"true\").option(\"sep\",\",\").load('file:///databricks/driver/agg_match_stats_4.csv')\n",
        "\n",
        "agg_DF_withSchema.show(5)\n",
        "agg_DF_withSchema.printSchema()\n",
        "\n",
        "kill_Schema = StructType([StructField(\"killed_by\", StringType(), True),\n",
        "                          StructField(\"killer_name\", StringType(), True),\n",
        "                          StructField(\"killer_placement\", DoubleType(), True),\n",
        "                          StructField(\"killer_position_x\", DoubleType(), True),\n",
        "                          StructField(\"killer_position_y\", DoubleType(), True),\n",
        "                          StructField(\"map\", StringType(), True),\n",
        "                          StructField(\"match_id\", StringType(), True),\n",
        "                          StructField(\"time\", IntegerType(), True),\n",
        "                          StructField(\"victim_name\", StringType(), True),\n",
        "                          StructField(\"victim_placement\", DoubleType(), True),\n",
        "                          StructField(\"victim_position_x\", DoubleType(), True),\n",
        "                          StructField(\"victim_position_y\", DoubleType(), True)])\n",
        "\n",
        "kill_DF_withSchema = spark.read.format('csv').schema(kill_Schema).option(\"header\", \"true\").option(\"sep\", \",\").load('file:///databricks/driver/kill_match_stats_final_4.csv')\n",
        "\n",
        "kill_DF_withSchema.show(5)"
      ],
      "execution_count": null,
      "outputs": []
    },
    {
      "cell_type": "markdown",
      "metadata": {
        "id": "eMduDuICQWsm"
      },
      "source": [
        "# SQL Queries"
      ]
    },
    {
      "cell_type": "code",
      "metadata": {
        "id": "ASNurbpgQVnB"
      },
      "source": [
        "#Top 10 winner's weapons\n",
        "from pyspark.sql.functions import col,column\n",
        "kill_DF_withSchema.createOrReplaceTempView(\"kill_DF\")\n",
        "sqlDF = spark.sql(\"SELECT killed_by AS Weapon, COUNT(*) AS Number_of_usage FROM (SELECT * FROM kill_DF WHERE killer_placement = 1.0) GROUP BY killed_by HAVING  killed_by <> 'Down and Out' ORDER BY 2 DESC LIMIT 10\")\n",
        "sqlDF.show()"
      ],
      "execution_count": null,
      "outputs": []
    },
    {
      "cell_type": "code",
      "metadata": {
        "id": "NP26v4kBTmqa"
      },
      "source": [
        "#最常自殺的武器\n",
        "sqlDF2 = spark.sql(\"SELECT killed_by AS Weapon, COUNT(*) AS count FROM (SELECT * FROM kill_DF WHERE killer_name = victim_name) GROUP BY killed_by HAVING killed_by <> 'Down and Out' ORDER BY 2 DESC \")\n",
        "sqlDF2.show()"
      ],
      "execution_count": null,
      "outputs": []
    },
    {
      "cell_type": "markdown",
      "metadata": {
        "id": "WuTgdDsE5J_F"
      },
      "source": [
        "# Death Map"
      ]
    },
    {
      "cell_type": "code",
      "metadata": {
        "id": "6pQ69Yp55Gxb"
      },
      "source": [
        "pip install Pillow\n",
        "%sh\n",
        "wget https://budt758b-041055024398.s3.amazonaws.com/erangel.jpg #get erangel map"
      ],
      "execution_count": null,
      "outputs": []
    },
    {
      "cell_type": "code",
      "metadata": {
        "id": "SzZCj6LYN1Ki"
      },
      "source": [
        "pip install Pillow\n",
        "import matplotlib.image as mpimg\n",
        "bg =mpimg.imread(\"erangel.jpg\")\n",
        "#killer and victim position\n",
        "import numpy as np\n",
        "import matplotlib.pyplot as plt\n",
        "import pandas as pd\n",
        "import seaborn as sns\n",
        "edf = kill_sub_df.loc[kill_sub_df['map'] == 'ERANGEL']\n",
        "def killer_victim_df_maker(df):\n",
        "    #挑出被擊殺玩家座標\n",
        "    df = edf\n",
        "    victim_x_df = df.filter(regex = 'victim_position_x')\n",
        "    victim_y_df = df.filter(regex = 'victim_position_y')\n",
        "    killer_x_df = df.filter(regex = 'killer_position_x')\n",
        "    killer_y_df = df.filter(regex = 'killer_position_y')\n",
        "    #ravel()將多維矩陣便一維\n",
        "    victim_x_s = pd.Series(victim_x_df.values.ravel('F'))\n",
        "    victim_y_s = pd.Series(victim_y_df.values.ravel('F'))\n",
        "    killer_x_s = pd.Series(killer_x_df.values.ravel('F'))\n",
        "    killer_y_s = pd.Series(killer_y_df.values.ravel('F'))\n",
        "    \n",
        "    vdata = {'x':victim_x_s, 'y':victim_y_s}\n",
        "    kdata = {'x':killer_x_s, 'y':killer_y_s}\n",
        "    \n",
        "    #dropna(how = 'any')刪除NA\n",
        "    #去掉異常數據\n",
        "    victim_df = pd.DataFrame(data = vdata).dropna(how = 'any')\n",
        "    victim_df = victim_df[victim_df['x'] > 0]\n",
        "    killer_df = pd.DataFrame(data = kdata).dropna(how = 'any')\n",
        "    killer_df = killer_df[killer_df['x'] > 0]\n",
        "    return killer_df, victim_df\n",
        "\n",
        "ekdf,evdf = killer_victim_df_maker(edf)"
      ],
      "execution_count": null,
      "outputs": []
    },
    {
      "cell_type": "code",
      "metadata": {
        "id": "hjmkjL4JdpGq"
      },
      "source": [
        "#start to plot\n",
        "from scipy.ndimage.filters import gaussian_filter\n",
        "import matplotlib.cm as cm\n",
        "from matplotlib.colors import Normalize\n",
        "plot_data_ev = evdf[['x','y']].values\n",
        "plot_data_ek = ekdf[['x','y']].values\n",
        "#match with the map\n",
        "plot_data_ev = plot_data_ev * 4040 /800000\n",
        "plot_data_ek = plot_data_ek * 4040 /800000\n",
        "def heatmap(x, y, s, bins = 100):\n",
        "#    x = plot_data_ev[:,0]\n",
        "#    y = plot_data_ev[:,1]\n",
        "#    s = 1.5\n",
        "#    bins = 800\n",
        "    #np.histogram2d()將兩列數值轉成矩陣\n",
        "    heatmap, xedges, yedges = np.histogram2d(x, y, bins = bins)\n",
        "    #銳化模糊影像\n",
        "    heatmap = gaussian_filter(heatmap, sigma = s)\n",
        "    extent = [xedges[0], xedges[-1], yedges[0], yedges[-1]]\n",
        "    return heatmap.T, extent\n",
        "hmap, extent = heatmap(plot_data_ev[:,0], plot_data_ev[:,1], 1.5, bins =800)\n",
        "alphas = np.clip(Normalize(0, hmap.max()/100, clip=True)(hmap)*1.5,0.0,1.)\n",
        "colors = Normalize(hmap.max()/100, hmap.max()/20, clip=True)(hmap)\n",
        "colors = cm.bwr(colors)\n",
        "colors[..., -1] = alphas\n",
        "\n",
        "fig, ax = plt.subplots(figsize = (24,24))\n",
        "ax.set_xlim(0, 4096);ax.set_ylim(0, 4096)\n",
        "ax.imshow(bg)\n",
        "ax.imshow(colors, extent = extent, origin = 'lower', cmap = cm.bwr, alpha = 1)\n",
        "#ax.imshow(colors2, extent = extent2, origin = 'lower', cmap = cm.RdBu, alpha = 0.5)\n",
        "plt.gca().invert_yaxis()\n",
        "plt.title('Erangel Death Map')"
      ],
      "execution_count": null,
      "outputs": []
    },
    {
      "cell_type": "markdown",
      "metadata": {
        "id": "WBTwfXAjuY6z"
      },
      "source": [
        "# Predictive analysis: KNN"
      ]
    },
    {
      "cell_type": "markdown",
      "metadata": {
        "id": "rwtciReZxyD6"
      },
      "source": [
        "## Deciding target instances"
      ]
    },
    {
      "cell_type": "code",
      "metadata": {
        "colab": {
          "base_uri": "https://localhost:8080/",
          "height": 411
        },
        "id": "TljLLYgbutKb",
        "outputId": "aa7ed231-0057-4995-8cc2-2ad178dd3680"
      },
      "source": [
        "conditions = [agg_df2['team_placement'] <= 10.0, agg_df2['team_placement'] > 10.0]\n",
        "choices = [1, 0]\n",
        "agg_df2['top10'] = np.select(conditions, choices)\n",
        "agg_df2.head(5)\n"
      ],
      "execution_count": null,
      "outputs": [
        {
          "output_type": "stream",
          "text": [
            "/usr/local/lib/python3.7/dist-packages/ipykernel_launcher.py:3: SettingWithCopyWarning: \n",
            "A value is trying to be set on a copy of a slice from a DataFrame.\n",
            "Try using .loc[row_indexer,col_indexer] = value instead\n",
            "\n",
            "See the caveats in the documentation: https://pandas.pydata.org/pandas-docs/stable/user_guide/indexing.html#returning-a-view-versus-a-copy\n",
            "  This is separate from the ipykernel package so we can avoid doing imports until\n"
          ],
          "name": "stderr"
        },
        {
          "output_type": "execute_result",
          "data": {
            "text/html": [
              "<div>\n",
              "<style scoped>\n",
              "    .dataframe tbody tr th:only-of-type {\n",
              "        vertical-align: middle;\n",
              "    }\n",
              "\n",
              "    .dataframe tbody tr th {\n",
              "        vertical-align: top;\n",
              "    }\n",
              "\n",
              "    .dataframe thead th {\n",
              "        text-align: right;\n",
              "    }\n",
              "</style>\n",
              "<table border=\"1\" class=\"dataframe\">\n",
              "  <thead>\n",
              "    <tr style=\"text-align: right;\">\n",
              "      <th></th>\n",
              "      <th>date</th>\n",
              "      <th>game_size</th>\n",
              "      <th>match_id</th>\n",
              "      <th>match_mode</th>\n",
              "      <th>party_size</th>\n",
              "      <th>player_assists</th>\n",
              "      <th>player_dbno</th>\n",
              "      <th>player_dist_ride</th>\n",
              "      <th>player_dist_walk</th>\n",
              "      <th>player_dmg</th>\n",
              "      <th>player_kills</th>\n",
              "      <th>player_name</th>\n",
              "      <th>player_survive_time</th>\n",
              "      <th>team_id</th>\n",
              "      <th>team_placement</th>\n",
              "      <th>top10</th>\n",
              "    </tr>\n",
              "  </thead>\n",
              "  <tbody>\n",
              "    <tr>\n",
              "      <th>0</th>\n",
              "      <td>2017-10-31T02:41:53+0000</td>\n",
              "      <td>95</td>\n",
              "      <td>2U4GBNA0YmmhivBOFUiipklIPVdC0DRgkX88eyhTYGiAno...</td>\n",
              "      <td>tpp</td>\n",
              "      <td>1.0</td>\n",
              "      <td>0.0</td>\n",
              "      <td>0.0</td>\n",
              "      <td>0.000000</td>\n",
              "      <td>37.919838</td>\n",
              "      <td>20.0</td>\n",
              "      <td>0.0</td>\n",
              "      <td>m3xdave</td>\n",
              "      <td>106.351</td>\n",
              "      <td>100000.0</td>\n",
              "      <td>88.0</td>\n",
              "      <td>0</td>\n",
              "    </tr>\n",
              "    <tr>\n",
              "      <th>1</th>\n",
              "      <td>2017-10-31T02:41:53+0000</td>\n",
              "      <td>95</td>\n",
              "      <td>2U4GBNA0YmmhivBOFUiipklIPVdC0DRgkX88eyhTYGiAno...</td>\n",
              "      <td>tpp</td>\n",
              "      <td>1.0</td>\n",
              "      <td>0.0</td>\n",
              "      <td>0.0</td>\n",
              "      <td>292.205048</td>\n",
              "      <td>3457.036130</td>\n",
              "      <td>387.0</td>\n",
              "      <td>3.0</td>\n",
              "      <td>UDaddyHere</td>\n",
              "      <td>1690.021</td>\n",
              "      <td>100006.0</td>\n",
              "      <td>8.0</td>\n",
              "      <td>1</td>\n",
              "    </tr>\n",
              "    <tr>\n",
              "      <th>2</th>\n",
              "      <td>2017-10-31T02:41:53+0000</td>\n",
              "      <td>95</td>\n",
              "      <td>2U4GBNA0YmmhivBOFUiipklIPVdC0DRgkX88eyhTYGiAno...</td>\n",
              "      <td>tpp</td>\n",
              "      <td>1.0</td>\n",
              "      <td>0.0</td>\n",
              "      <td>0.0</td>\n",
              "      <td>0.000000</td>\n",
              "      <td>106.215900</td>\n",
              "      <td>0.0</td>\n",
              "      <td>0.0</td>\n",
              "      <td>Dummy05</td>\n",
              "      <td>103.415</td>\n",
              "      <td>100010.0</td>\n",
              "      <td>89.0</td>\n",
              "      <td>0</td>\n",
              "    </tr>\n",
              "    <tr>\n",
              "      <th>3</th>\n",
              "      <td>2017-10-31T02:41:53+0000</td>\n",
              "      <td>95</td>\n",
              "      <td>2U4GBNA0YmmhivBOFUiipklIPVdC0DRgkX88eyhTYGiAno...</td>\n",
              "      <td>tpp</td>\n",
              "      <td>1.0</td>\n",
              "      <td>0.0</td>\n",
              "      <td>0.0</td>\n",
              "      <td>0.000000</td>\n",
              "      <td>126.959831</td>\n",
              "      <td>91.0</td>\n",
              "      <td>0.0</td>\n",
              "      <td>NA-Wuyifan</td>\n",
              "      <td>272.838</td>\n",
              "      <td>100019.0</td>\n",
              "      <td>67.0</td>\n",
              "      <td>0</td>\n",
              "    </tr>\n",
              "    <tr>\n",
              "      <th>4</th>\n",
              "      <td>2017-10-31T02:41:53+0000</td>\n",
              "      <td>95</td>\n",
              "      <td>2U4GBNA0YmmhivBOFUiipklIPVdC0DRgkX88eyhTYGiAno...</td>\n",
              "      <td>tpp</td>\n",
              "      <td>1.0</td>\n",
              "      <td>0.0</td>\n",
              "      <td>0.0</td>\n",
              "      <td>0.000000</td>\n",
              "      <td>43.346710</td>\n",
              "      <td>0.0</td>\n",
              "      <td>0.0</td>\n",
              "      <td>kickinchicken</td>\n",
              "      <td>134.342</td>\n",
              "      <td>100024.0</td>\n",
              "      <td>81.0</td>\n",
              "      <td>0</td>\n",
              "    </tr>\n",
              "  </tbody>\n",
              "</table>\n",
              "</div>"
            ],
            "text/plain": [
              "                       date  game_size  ... team_placement top10\n",
              "0  2017-10-31T02:41:53+0000         95  ...           88.0     0\n",
              "1  2017-10-31T02:41:53+0000         95  ...            8.0     1\n",
              "2  2017-10-31T02:41:53+0000         95  ...           89.0     0\n",
              "3  2017-10-31T02:41:53+0000         95  ...           67.0     0\n",
              "4  2017-10-31T02:41:53+0000         95  ...           81.0     0\n",
              "\n",
              "[5 rows x 16 columns]"
            ]
          },
          "metadata": {
            "tags": []
          },
          "execution_count": 88
        }
      ]
    },
    {
      "cell_type": "markdown",
      "metadata": {
        "id": "pfvdC1i0HUXI"
      },
      "source": [
        "## Selecting features"
      ]
    },
    {
      "cell_type": "code",
      "metadata": {
        "id": "f7CMTA14ucq5"
      },
      "source": [
        "X = agg_df2.iloc[:, [5,6,7,8,9,10]].values #-4\n",
        "y = agg_df2.iloc[:, -1].values"
      ],
      "execution_count": null,
      "outputs": []
    },
    {
      "cell_type": "code",
      "metadata": {
        "colab": {
          "base_uri": "https://localhost:8080/"
        },
        "id": "mWBmHF4ozXiu",
        "outputId": "c39cd141-d58a-4771-8756-121a4719cfed"
      },
      "source": [
        "print(X)"
      ],
      "execution_count": null,
      "outputs": [
        {
          "output_type": "stream",
          "text": [
            "[[0.00000000e+00 0.00000000e+00 0.00000000e+00 3.79198380e+01\n",
            "  2.00000000e+01 0.00000000e+00]\n",
            " [0.00000000e+00 0.00000000e+00 2.92205048e+02 3.45703613e+03\n",
            "  3.87000000e+02 3.00000000e+00]\n",
            " [0.00000000e+00 0.00000000e+00 0.00000000e+00 1.06215900e+02\n",
            "  0.00000000e+00 0.00000000e+00]\n",
            " ...\n",
            " [1.00000000e+00 0.00000000e+00 1.69322546e+03 2.93380835e+03\n",
            "  0.00000000e+00 0.00000000e+00]\n",
            " [1.00000000e+00 2.00000000e+00 1.18417517e+03 2.60640747e+03\n",
            "  2.39000000e+02 2.00000000e+00]\n",
            " [0.00000000e+00 0.00000000e+00 6.75967346e+02 3.16533813e+03\n",
            "  1.80000000e+01 0.00000000e+00]]\n"
          ],
          "name": "stdout"
        }
      ]
    },
    {
      "cell_type": "code",
      "metadata": {
        "colab": {
          "base_uri": "https://localhost:8080/"
        },
        "id": "Vvj7ZyUmzgoO",
        "outputId": "80725122-294d-4372-85d1-3afa72da831b"
      },
      "source": [
        "print(y)"
      ],
      "execution_count": null,
      "outputs": [
        {
          "output_type": "stream",
          "text": [
            "[0 1 0 ... 1 1 1]\n"
          ],
          "name": "stdout"
        }
      ]
    },
    {
      "cell_type": "markdown",
      "metadata": {
        "id": "cw3-tQFhHXlW"
      },
      "source": [
        "## Train-Test Split"
      ]
    },
    {
      "cell_type": "code",
      "metadata": {
        "id": "x05WJq_PzixV"
      },
      "source": [
        "from sklearn.model_selection import train_test_split\n",
        "X_train, X_test, y_train, y_test = train_test_split(X, y, test_size = 0.3, random_state = 0)"
      ],
      "execution_count": null,
      "outputs": []
    },
    {
      "cell_type": "code",
      "metadata": {
        "colab": {
          "base_uri": "https://localhost:8080/"
        },
        "id": "9-VvMDDqztsw",
        "outputId": "2b9792e6-c310-437d-e22d-beca240e50f3"
      },
      "source": [
        "print(X_train)"
      ],
      "execution_count": null,
      "outputs": [
        {
          "output_type": "stream",
          "text": [
            "[[0.00000000e+00 0.00000000e+00 0.00000000e+00 6.72337400e+01\n",
            "  0.00000000e+00 0.00000000e+00]\n",
            " [0.00000000e+00 1.00000000e+00 7.17555500e+02 2.11638818e+03\n",
            "  1.49000000e+02 1.00000000e+00]\n",
            " [0.00000000e+00 0.00000000e+00 0.00000000e+00 1.83508087e+02\n",
            "  2.00000000e+01 0.00000000e+00]\n",
            " ...\n",
            " [0.00000000e+00 1.00000000e+00 0.00000000e+00 1.33620117e+02\n",
            "  7.20000000e+01 0.00000000e+00]\n",
            " [0.00000000e+00 0.00000000e+00 4.17448535e+03 3.04825700e+03\n",
            "  2.02000000e+02 2.00000000e+00]\n",
            " [0.00000000e+00 1.00000000e+00 1.63228760e+03 3.30091187e+03\n",
            "  1.72000000e+02 0.00000000e+00]]\n"
          ],
          "name": "stdout"
        }
      ]
    },
    {
      "cell_type": "code",
      "metadata": {
        "colab": {
          "base_uri": "https://localhost:8080/"
        },
        "id": "Ur87gXtdz0zf",
        "outputId": "8170a49d-1a52-4d39-f09f-7ef42f33e224"
      },
      "source": [
        "print(y_train)"
      ],
      "execution_count": null,
      "outputs": [
        {
          "output_type": "stream",
          "text": [
            "[0 1 0 ... 0 1 1]\n"
          ],
          "name": "stdout"
        }
      ]
    },
    {
      "cell_type": "code",
      "metadata": {
        "colab": {
          "base_uri": "https://localhost:8080/"
        },
        "id": "h5Lmrtecz6Il",
        "outputId": "c77ba3dc-87a6-49d2-d1d0-9eb2664d08a7"
      },
      "source": [
        "print(X_test)"
      ],
      "execution_count": null,
      "outputs": [
        {
          "output_type": "stream",
          "text": [
            "[[0.00000000e+00 0.00000000e+00 4.30433350e+03 1.34028162e+03\n",
            "  2.00000000e+00 0.00000000e+00]\n",
            " [2.00000000e+00 0.00000000e+00 1.61285864e+03 2.07594946e+03\n",
            "  1.87000000e+02 0.00000000e+00]\n",
            " [0.00000000e+00 2.00000000e+00 0.00000000e+00 3.59819763e+02\n",
            "  4.72000000e+02 5.00000000e+00]\n",
            " ...\n",
            " [0.00000000e+00 0.00000000e+00 2.36610300e+03 2.29462200e+03\n",
            "  5.24000000e+02 5.00000000e+00]\n",
            " [1.00000000e+00 0.00000000e+00 0.00000000e+00 1.05090675e+02\n",
            "  1.79000000e+02 1.00000000e+00]\n",
            " [0.00000000e+00 0.00000000e+00 0.00000000e+00 3.53280469e+03\n",
            "  1.00000000e+02 1.00000000e+00]]\n"
          ],
          "name": "stdout"
        }
      ]
    },
    {
      "cell_type": "code",
      "metadata": {
        "colab": {
          "base_uri": "https://localhost:8080/"
        },
        "id": "E5hxRR9Tz9cn",
        "outputId": "dcc50b03-6ff6-466b-90df-01885b8b4b84"
      },
      "source": [
        "print(y_test)"
      ],
      "execution_count": null,
      "outputs": [
        {
          "output_type": "stream",
          "text": [
            "[0 1 0 ... 0 0 0]\n"
          ],
          "name": "stdout"
        }
      ]
    },
    {
      "cell_type": "markdown",
      "metadata": {
        "id": "c7Q9Ee8BHdVM"
      },
      "source": [
        "## Feature Scaling"
      ]
    },
    {
      "cell_type": "code",
      "metadata": {
        "id": "CZbp5XcD0ARx"
      },
      "source": [
        "from sklearn.preprocessing import StandardScaler\n",
        "sc = StandardScaler()\n",
        "X_train = sc.fit_transform(X_train)\n",
        "X_test = sc.transform(X_test)"
      ],
      "execution_count": null,
      "outputs": []
    },
    {
      "cell_type": "code",
      "metadata": {
        "colab": {
          "base_uri": "https://localhost:8080/"
        },
        "id": "iFlrkD7c0G3x",
        "outputId": "48d66171-bfa9-4b60-ab6d-9290cd856f25"
      },
      "source": [
        "print(X_train)"
      ],
      "execution_count": null,
      "outputs": [
        {
          "output_type": "stream",
          "text": [
            "[[-0.3969618  -0.51777668 -0.56902206 -0.27436483 -0.73741224 -0.57543899]\n",
            " [-0.3969618   0.39355062 -0.21303131  0.18741579  0.1509556   0.07198221]\n",
            " [-0.3969618  -0.51777668 -0.56902206 -0.2481622  -0.61816823 -0.57543899]\n",
            " ...\n",
            " [-0.3969618   0.39355062 -0.56902206 -0.25940454 -0.30813382 -0.57543899]\n",
            " [-0.3969618  -0.51777668  1.50200684  0.3974141   0.46695221  0.71940342]\n",
            " [-0.3969618   0.39355062  0.24078191  0.45435032  0.2880862  -0.57543899]]\n"
          ],
          "name": "stdout"
        }
      ]
    },
    {
      "cell_type": "code",
      "metadata": {
        "colab": {
          "base_uri": "https://localhost:8080/"
        },
        "id": "Q3EMqDBmCQrs",
        "outputId": "b812f2b7-9f60-42ca-e45c-f685e93c4862"
      },
      "source": [
        "print(X_test)"
      ],
      "execution_count": null,
      "outputs": [
        {
          "output_type": "stream",
          "text": [
            "[[-0.3969618  -0.51777668  1.56642658  0.01251879 -0.72548784 -0.57543899]\n",
            " [ 3.09465374 -0.51777668  0.23114289  0.17830285  0.37751921 -0.57543899]\n",
            " [-0.3969618   1.30487793 -0.56902206 -0.20843004  2.07674627  2.66166704]\n",
            " ...\n",
            " [-0.3969618  -0.51777668  0.60483945  0.2275811   2.38678069  2.66166704]\n",
            " [ 1.34884597 -0.51777668 -0.56902206 -0.2658337   0.3298216   0.07198221]\n",
            " [-0.3969618  -0.51777668 -0.56902206  0.50660779 -0.14119221  0.07198221]]\n"
          ],
          "name": "stdout"
        }
      ]
    },
    {
      "cell_type": "markdown",
      "metadata": {
        "id": "Jt-kvy6hH7uX"
      },
      "source": [
        "## KNN Training"
      ]
    },
    {
      "cell_type": "code",
      "metadata": {
        "colab": {
          "base_uri": "https://localhost:8080/"
        },
        "id": "tK-vkM8KCfKQ",
        "outputId": "8564959a-1ba9-4e65-cdff-eb1dc5c5c1c3"
      },
      "source": [
        "from sklearn.neighbors import KNeighborsClassifier\n",
        "knn = KNeighborsClassifier(n_neighbors = 10, metric = 'minkowski', p = 2)\n",
        "knn.fit(X_train, y_train)"
      ],
      "execution_count": null,
      "outputs": [
        {
          "output_type": "execute_result",
          "data": {
            "text/plain": [
              "KNeighborsClassifier(algorithm='auto', leaf_size=30, metric='minkowski',\n",
              "                     metric_params=None, n_jobs=None, n_neighbors=10, p=2,\n",
              "                     weights='uniform')"
            ]
          },
          "metadata": {
            "tags": []
          },
          "execution_count": 113
        }
      ]
    },
    {
      "cell_type": "code",
      "metadata": {
        "id": "E_-foQEPC5F2"
      },
      "source": [
        "y_pred = knn.predict(X_test)"
      ],
      "execution_count": null,
      "outputs": []
    },
    {
      "cell_type": "code",
      "metadata": {
        "colab": {
          "base_uri": "https://localhost:8080/"
        },
        "id": "h1wS1BalDBIz",
        "outputId": "205007e3-3f37-4619-f0bc-b1576a7d6858"
      },
      "source": [
        "from sklearn.metrics import confusion_matrix, accuracy_score\n",
        "cm = confusion_matrix(y_test, y_pred)\n",
        "print(cm)\n",
        "accuracy_score(y_test, y_pred)"
      ],
      "execution_count": null,
      "outputs": [
        {
          "output_type": "stream",
          "text": [
            "[[43908  3432]\n",
            " [ 6288 10649]]\n"
          ],
          "name": "stdout"
        },
        {
          "output_type": "execute_result",
          "data": {
            "text/plain": [
              "0.8487795012212767"
            ]
          },
          "metadata": {
            "tags": []
          },
          "execution_count": 115
        }
      ]
    }
  ]
}